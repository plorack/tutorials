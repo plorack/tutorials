{
  "cells": [
    {
      "attachments": {},
      "cell_type": "markdown",
      "metadata": {
        "id": "cUXjcO2bWWA8"
      },
      "source": [
        "# How to make API calls with Python a guided example"
      ]
    },
    {
      "attachments": {},
      "cell_type": "markdown",
      "metadata": {
        "id": "eKHAH5ayWQ9N"
      },
      "source": [
        "## Abstract"
      ]
    },
    {
      "attachments": {},
      "cell_type": "markdown",
      "metadata": {
        "id": "kGDGaTKjVgiJ"
      },
      "source": [
        "This notebook illustrates the process of making API calls with Python to retrieve data from standard REST APIs. The process usually follows the below framework:\n",
        "\n",
        "- Finding the URL endpoint of the API and storing it in a variable\n",
        "- Understanding what parameters are available (via the API homepage) and passing them to the URL\n",
        "- Use of the requests library to pass the constructed query to the service\n",
        "- Retrival of data in JSON format\n",
        "- Serialisation into a Python dictionary\n",
        "- Processing of the returned object for application needs."
      ]
    },
    {
      "attachments": {},
      "cell_type": "markdown",
      "metadata": {
        "id": "MFcT8F2EUr2O"
      },
      "source": [
        "## 1. Dependencies & modules imports\n",
        "\n",
        "The code relies on the following libraries:\n",
        "- requests (not installed by default -> to be installed by pip3)\n",
        "- datetime (not installed by default -> to be installed by pip3)\n",
        "- polars (not installed by default -> to be installed by pip3)\n",
        "- seaborn (not installed by default -> to be installed by pip)\n",
        "- json (part of stdlib)\n",
        "- pprint (part of stdlib)\n"
      ]
    },
    {
      "cell_type": "code",
      "execution_count": null,
      "metadata": {
        "colab": {
          "base_uri": "https://localhost:8080/"
        },
        "id": "k_WaC_4i28iO",
        "outputId": "c2ae4268-5a10-4f3a-c9c6-f2b4cfadf2ea"
      },
      "outputs": [],
      "source": [
        "# Cell magic - Making sure the required libraries are installed\n",
        "! pip3 install requests datetime seaborn polars"
      ]
    },
    {
      "cell_type": "code",
      "execution_count": 1,
      "metadata": {
        "id": "y6DPqoq74_Dj"
      },
      "outputs": [],
      "source": [
        "# Imports\n",
        "import requests # importing the requests library to make automated http calls\n",
        "import json # importing json library to parse JSON object response -> part of standard lib\n",
        "from datetime import datetime, timedelta # Importing library to get dates and calculate time deltas\n",
        "import pprint # Importing library to pretty print Python dictionaries -> part of standard lib\n",
        "import polars as pl # Tabular data frames\n",
        "import seaborn as sns # Easy Charting"
      ]
    },
    {
      "attachments": {},
      "cell_type": "markdown",
      "metadata": {
        "id": "rreGvJtEURYx"
      },
      "source": [
        "# 2. Example: Making API Call to WeatherAPI.com"
      ]
    },
    {
      "cell_type": "code",
      "execution_count": 2,
      "metadata": {
        "id": "hkPS0vHj5P4y"
      },
      "outputs": [],
      "source": [
        "# Setting up variables\n",
        "## A. access tokens - This is the API key given by weatherapi.com\n",
        "api_key = '<INSERTYOURKEY>'\n",
        "\n",
        "## B. api endpoint\n",
        "url = 'https://api.weatherapi.com/v1/forecast.json'\n",
        "\n",
        "## C. Dates dictionary\n",
        "### Creating a dictionary of dates for the next 5 days\n",
        "today = datetime.today().date()\n",
        "\n",
        "next_7_days = {\n",
        "    'now': today.strftime('%Y-%m-%d'),\n",
        "    'tomorrow': (today + timedelta(days=1)).strftime('%Y-%m-%d'),\n",
        "    'in 2 days': (today + timedelta(days=2)).strftime('%Y-%m-%d'),\n",
        "    'in 3 days': (today+ timedelta(days=3)).strftime('%Y-%m-%d'),\n",
        "    'in 4 days': (today+ timedelta(days=4)).strftime('%Y-%m-%d'),\n",
        "    'in 5 days': (today+ timedelta(days=5)).strftime('%Y-%m-%d')\n",
        "}\n",
        "\n",
        "## D. Cities List\n",
        "cities = ['Paris', 'London', 'New York']\n",
        "\n",
        "## E. Specifying Parameters to API\n",
        "params = {'key': api_key, 'dt' : next_7_days['now'],'q': cities[0]}"
      ]
    },
    {
      "cell_type": "code",
      "execution_count": null,
      "metadata": {
        "colab": {
          "base_uri": "https://localhost:8080/"
        },
        "id": "erLzpgap7IXL",
        "outputId": "2461352b-c4e5-4c98-f8b9-9c641569def3"
      },
      "outputs": [],
      "source": [
        "# Making a call directly to the WeatherAPI.com Api\n",
        "with requests.get(url, params=params) as response:\n",
        "  data =  response.json()  # Parse the JSON response into a Python dictionary\n",
        "  pprint.pprint(data) # Pretty prints the python dictionary (otherwise would be displayed a one line)"
      ]
    },
    {
      "attachments": {},
      "cell_type": "markdown",
      "metadata": {
        "id": "l_dyfkfNUcgV"
      },
      "source": [
        "# 3. Example: Making API Call to Alphavantage.co\n",
        "\n",
        "To make an API call and request End of day prices (EOD) we can use what is called an \"API End Point\"\n",
        "\n",
        "- In this case https://www.alphavantage.co/query?function=TIME_SERIES_DAILY_ADJUSTED\n",
        "- We can then pass optional parameters to the URL via \"parameters\"\n",
        "- we need to specify the type of data, API key etc...\n",
        "\n"
      ]
    },
    {
      "attachments": {},
      "cell_type": "markdown",
      "metadata": {
        "id": "0yZ3vYVFwxHx"
      },
      "source": [
        "Example of sample constructed URL to get price data for IBM\n",
        "\n",
        "https://www.alphavantage.co/query?function=TIME_SERIES_DAILY_ADJUSTED&symbol=IBM&outputsize=full&apikey=demo"
      ]
    },
    {
      "cell_type": "code",
      "execution_count": null,
      "metadata": {
        "colab": {
          "base_uri": "https://localhost:8080/"
        },
        "id": "OF5kq1pe8K91",
        "outputId": "8ef00978-6892-4411-cb83-99027c4320a5"
      },
      "outputs": [],
      "source": [
        "import requests\n",
        "import pprint\n",
        "\n",
        "# In the below - replace the ticker with the stock ticker you want\n",
        "##             - replace demo by your own API key (you can get one for free on Alphavantage)\n",
        "\n",
        "url = 'https://www.alphavantage.co/query?function=TIME_SERIES_DAILY_ADJUSTED'\n",
        "params = {\n",
        "    'symbol' : 'IBM',\n",
        "    'outputsize' : 'full',\n",
        "    'apikey' : 'demo'\n",
        "}\n",
        "# Making a call directly to the WeatherAPI.com Api\n",
        "with requests.get(url, params=params) as response:\n",
        "  data =  response.json()  # Parse the JSON response into a Python dictionary\n",
        "  pprint.pprint(data) # Pretty prints the python dictionary (otherwise would be displayed a one line)"
      ]
    },
    {
      "cell_type": "code",
      "execution_count": 5,
      "metadata": {
        "colab": {
          "base_uri": "https://localhost:8080/"
        },
        "id": "NGXxfI_XzWBX",
        "outputId": "bb0285da-4754-44b2-b355-97d1a2d24370"
      },
      "outputs": [
        {
          "data": {
            "text/plain": [
              "dict_keys(['Meta Data', 'Time Series (Daily)'])"
            ]
          },
          "execution_count": 5,
          "metadata": {},
          "output_type": "execute_result"
        }
      ],
      "source": [
        "# Returned JSON object has two keys\n",
        "data.keys()"
      ]
    },
    {
      "cell_type": "code",
      "execution_count": 6,
      "metadata": {
        "colab": {
          "base_uri": "https://localhost:8080/"
        },
        "id": "arcVOUvRnQlg",
        "outputId": "c298eb35-b943-4edf-d031-5ab64b90f91a"
      },
      "outputs": [
        {
          "name": "stdout",
          "output_type": "stream",
          "text": [
            "1999-11-01\n",
            "2023-07-07\n"
          ]
        }
      ],
      "source": [
        "# To access time series data we drill down to the second key\n",
        "## For IBM we seem to have quite a large range of dates\n",
        "print(min(data['Time Series (Daily)'].keys()))\n",
        "print(max((data['Time Series (Daily)'].keys())))"
      ]
    },
    {
      "attachments": {},
      "cell_type": "markdown",
      "metadata": {
        "id": "y8tt6_NDpW_8"
      },
      "source": [
        "## 4. Transitioning from Dict to tabular data"
      ]
    },
    {
      "cell_type": "code",
      "execution_count": null,
      "metadata": {
        "id": "T9ePsUn2peeO"
      },
      "outputs": [],
      "source": [
        "# Polars has superseeded Pandas for tabular data manipulation\n",
        "# Pandas is optimized for single core used whereas polars is written Rust and optimized for multicores procs."
      ]
    },
    {
      "cell_type": "code",
      "execution_count": null,
      "metadata": {
        "colab": {
          "base_uri": "https://localhost:8080/"
        },
        "id": "QWbFGNQepyio",
        "outputId": "23555df1-3aad-43e1-a29c-48223d7814b9"
      },
      "outputs": [],
      "source": [
        "# Upacking the dictonary returned by alpha vantage creating a list of dicts we can pass to polars:\n",
        "rows = [{**{'date': date}, **values} for date, values in data['Time Series (Daily)'].items()]\n",
        "rows"
      ]
    },
    {
      "cell_type": "code",
      "execution_count": 9,
      "metadata": {
        "colab": {
          "base_uri": "https://localhost:8080/",
          "height": 882
        },
        "id": "BAdubkXSr9TL",
        "outputId": "9b7fba4a-30f2-423a-c30c-481a6a4df66c"
      },
      "outputs": [
        {
          "data": {
            "text/html": [
              "<div><style>\n",
              ".dataframe > thead > tr > th,\n",
              ".dataframe > tbody > tr > td {\n",
              "  text-align: right;\n",
              "}\n",
              "</style>\n",
              "<small>shape: (5, 9)</small><table border=\"1\" class=\"dataframe\"><thead><tr><th>date</th><th>1. open</th><th>2. high</th><th>3. low</th><th>4. close</th><th>5. adjusted close</th><th>6. volume</th><th>7. dividend amount</th><th>8. split coefficient</th></tr><tr><td>str</td><td>str</td><td>str</td><td>str</td><td>str</td><td>str</td><td>str</td><td>str</td><td>str</td></tr></thead><tbody><tr><td>&quot;2023-07-07&quot;</td><td>&quot;131.78&quot;</td><td>&quot;133.855&quot;</td><td>&quot;131.75&quot;</td><td>&quot;132.08&quot;</td><td>&quot;132.08&quot;</td><td>&quot;2982738&quot;</td><td>&quot;0.0000&quot;</td><td>&quot;1.0&quot;</td></tr><tr><td>&quot;2023-07-06&quot;</td><td>&quot;133.235&quot;</td><td>&quot;133.9&quot;</td><td>&quot;131.55&quot;</td><td>&quot;132.16&quot;</td><td>&quot;132.16&quot;</td><td>&quot;3508083&quot;</td><td>&quot;0.0000&quot;</td><td>&quot;1.0&quot;</td></tr><tr><td>&quot;2023-07-05&quot;</td><td>&quot;133.32&quot;</td><td>&quot;134.31&quot;</td><td>&quot;132.59&quot;</td><td>&quot;134.24&quot;</td><td>&quot;134.24&quot;</td><td>&quot;2955870&quot;</td><td>&quot;0.0000&quot;</td><td>&quot;1.0&quot;</td></tr><tr><td>&quot;2023-07-03&quot;</td><td>&quot;133.42&quot;</td><td>&quot;134.35&quot;</td><td>&quot;132.87&quot;</td><td>&quot;133.67&quot;</td><td>&quot;133.67&quot;</td><td>&quot;1477149&quot;</td><td>&quot;0.0000&quot;</td><td>&quot;1.0&quot;</td></tr><tr><td>&quot;2023-06-30&quot;</td><td>&quot;134.69&quot;</td><td>&quot;135.03&quot;</td><td>&quot;133.425&quot;</td><td>&quot;133.81&quot;</td><td>&quot;133.81&quot;</td><td>&quot;4236677&quot;</td><td>&quot;0.0000&quot;</td><td>&quot;1.0&quot;</td></tr></tbody></table></div>"
            ],
            "text/plain": [
              "shape: (5, 9)\n",
              "┌────────────┬─────────┬─────────┬─────────┬───┬────────────┬───────────┬────────────┬────────────┐\n",
              "│ date       ┆ 1. open ┆ 2. high ┆ 3. low  ┆ … ┆ 5.         ┆ 6. volume ┆ 7.         ┆ 8. split   │\n",
              "│ ---        ┆ ---     ┆ ---     ┆ ---     ┆   ┆ adjusted   ┆ ---       ┆ dividend   ┆ coefficien │\n",
              "│ str        ┆ str     ┆ str     ┆ str     ┆   ┆ close      ┆ str       ┆ amount     ┆ t          │\n",
              "│            ┆         ┆         ┆         ┆   ┆ ---        ┆           ┆ ---        ┆ ---        │\n",
              "│            ┆         ┆         ┆         ┆   ┆ str        ┆           ┆ str        ┆ str        │\n",
              "╞════════════╪═════════╪═════════╪═════════╪═══╪════════════╪═══════════╪════════════╪════════════╡\n",
              "│ 2023-07-07 ┆ 131.78  ┆ 133.855 ┆ 131.75  ┆ … ┆ 132.08     ┆ 2982738   ┆ 0.0000     ┆ 1.0        │\n",
              "│ 2023-07-06 ┆ 133.235 ┆ 133.9   ┆ 131.55  ┆ … ┆ 132.16     ┆ 3508083   ┆ 0.0000     ┆ 1.0        │\n",
              "│ 2023-07-05 ┆ 133.32  ┆ 134.31  ┆ 132.59  ┆ … ┆ 134.24     ┆ 2955870   ┆ 0.0000     ┆ 1.0        │\n",
              "│ 2023-07-03 ┆ 133.42  ┆ 134.35  ┆ 132.87  ┆ … ┆ 133.67     ┆ 1477149   ┆ 0.0000     ┆ 1.0        │\n",
              "│ 2023-06-30 ┆ 134.69  ┆ 135.03  ┆ 133.425 ┆ … ┆ 133.81     ┆ 4236677   ┆ 0.0000     ┆ 1.0        │\n",
              "└────────────┴─────────┴─────────┴─────────┴───┴────────────┴───────────┴────────────┴────────────┘"
            ]
          },
          "execution_count": 9,
          "metadata": {},
          "output_type": "execute_result"
        }
      ],
      "source": [
        "# By default dictionaries in Polars are ingested as strings\n",
        "df = pl.DataFrame(rows)\n",
        "df.head()"
      ]
    },
    {
      "cell_type": "code",
      "execution_count": 10,
      "metadata": {
        "id": "0l25pWTvs4AB"
      },
      "outputs": [],
      "source": [
        "# Therefore the data type of each column needs to be specified separatly\n",
        "## Specifying data types\n",
        "## Specify the data types for columns\n",
        "dtypes = {\n",
        "    'date': pl.Date,\n",
        "    '1. open': float,\n",
        "    '2. high': float,\n",
        "    '3. low': float,\n",
        "    '4. close': float,\n",
        "    '5. adjusted close': float,\n",
        "    '6. volume': int,\n",
        "    '7. dividend amount': float,\n",
        "    '8. split coefficient': float\n",
        "}"
      ]
    },
    {
      "cell_type": "code",
      "execution_count": 11,
      "metadata": {
        "colab": {
          "base_uri": "https://localhost:8080/"
        },
        "id": "b6t_Oq4B8Ejd",
        "outputId": "079cc7cc-037b-40e6-bc2c-349288bf29d1"
      },
      "outputs": [
        {
          "name": "stdout",
          "output_type": "stream",
          "text": [
            "date\n",
            "Date\n",
            "1. open\n",
            "<class 'float'>\n",
            "2. high\n",
            "<class 'float'>\n",
            "3. low\n",
            "<class 'float'>\n",
            "4. close\n",
            "<class 'float'>\n",
            "5. adjusted close\n",
            "<class 'float'>\n",
            "6. volume\n",
            "<class 'int'>\n",
            "7. dividend amount\n",
            "<class 'float'>\n",
            "8. split coefficient\n",
            "<class 'float'>\n"
          ]
        }
      ],
      "source": [
        "for col, dtype in dtypes.items():\n",
        "  print(col)\n",
        "  print(dtype)"
      ]
    },
    {
      "cell_type": "code",
      "execution_count": 12,
      "metadata": {
        "id": "XgxPatP0r_IN"
      },
      "outputs": [],
      "source": [
        "# Cast columns to specified data types\n",
        "for col, dtype in dtypes.items():\n",
        "    if col == 'date':\n",
        "        df = df.with_columns(pl.col(col).str.strptime(dtype, \"%Y-%m-%d\"))\n",
        "    else:\n",
        "        df = df.with_columns(pl.col(col).cast(dtype))"
      ]
    },
    {
      "cell_type": "code",
      "execution_count": 13,
      "metadata": {
        "colab": {
          "base_uri": "https://localhost:8080/",
          "height": 882
        },
        "id": "iwC63orM85x7",
        "outputId": "f699de28-eb2e-4fc9-ebf5-8090ade8ac63"
      },
      "outputs": [
        {
          "data": {
            "text/html": [
              "<div><style>\n",
              ".dataframe > thead > tr > th,\n",
              ".dataframe > tbody > tr > td {\n",
              "  text-align: right;\n",
              "}\n",
              "</style>\n",
              "<small>shape: (5, 9)</small><table border=\"1\" class=\"dataframe\"><thead><tr><th>date</th><th>1. open</th><th>2. high</th><th>3. low</th><th>4. close</th><th>5. adjusted close</th><th>6. volume</th><th>7. dividend amount</th><th>8. split coefficient</th></tr><tr><td>date</td><td>f64</td><td>f64</td><td>f64</td><td>f64</td><td>f64</td><td>i64</td><td>f64</td><td>f64</td></tr></thead><tbody><tr><td>2023-07-07</td><td>131.78</td><td>133.855</td><td>131.75</td><td>132.08</td><td>132.08</td><td>2982738</td><td>0.0</td><td>1.0</td></tr><tr><td>2023-07-06</td><td>133.235</td><td>133.9</td><td>131.55</td><td>132.16</td><td>132.16</td><td>3508083</td><td>0.0</td><td>1.0</td></tr><tr><td>2023-07-05</td><td>133.32</td><td>134.31</td><td>132.59</td><td>134.24</td><td>134.24</td><td>2955870</td><td>0.0</td><td>1.0</td></tr><tr><td>2023-07-03</td><td>133.42</td><td>134.35</td><td>132.87</td><td>133.67</td><td>133.67</td><td>1477149</td><td>0.0</td><td>1.0</td></tr><tr><td>2023-06-30</td><td>134.69</td><td>135.03</td><td>133.425</td><td>133.81</td><td>133.81</td><td>4236677</td><td>0.0</td><td>1.0</td></tr></tbody></table></div>"
            ],
            "text/plain": [
              "shape: (5, 9)\n",
              "┌────────────┬─────────┬─────────┬─────────┬───┬────────────┬───────────┬────────────┬────────────┐\n",
              "│ date       ┆ 1. open ┆ 2. high ┆ 3. low  ┆ … ┆ 5.         ┆ 6. volume ┆ 7.         ┆ 8. split   │\n",
              "│ ---        ┆ ---     ┆ ---     ┆ ---     ┆   ┆ adjusted   ┆ ---       ┆ dividend   ┆ coefficien │\n",
              "│ date       ┆ f64     ┆ f64     ┆ f64     ┆   ┆ close      ┆ i64       ┆ amount     ┆ t          │\n",
              "│            ┆         ┆         ┆         ┆   ┆ ---        ┆           ┆ ---        ┆ ---        │\n",
              "│            ┆         ┆         ┆         ┆   ┆ f64        ┆           ┆ f64        ┆ f64        │\n",
              "╞════════════╪═════════╪═════════╪═════════╪═══╪════════════╪═══════════╪════════════╪════════════╡\n",
              "│ 2023-07-07 ┆ 131.78  ┆ 133.855 ┆ 131.75  ┆ … ┆ 132.08     ┆ 2982738   ┆ 0.0        ┆ 1.0        │\n",
              "│ 2023-07-06 ┆ 133.235 ┆ 133.9   ┆ 131.55  ┆ … ┆ 132.16     ┆ 3508083   ┆ 0.0        ┆ 1.0        │\n",
              "│ 2023-07-05 ┆ 133.32  ┆ 134.31  ┆ 132.59  ┆ … ┆ 134.24     ┆ 2955870   ┆ 0.0        ┆ 1.0        │\n",
              "│ 2023-07-03 ┆ 133.42  ┆ 134.35  ┆ 132.87  ┆ … ┆ 133.67     ┆ 1477149   ┆ 0.0        ┆ 1.0        │\n",
              "│ 2023-06-30 ┆ 134.69  ┆ 135.03  ┆ 133.425 ┆ … ┆ 133.81     ┆ 4236677   ┆ 0.0        ┆ 1.0        │\n",
              "└────────────┴─────────┴─────────┴─────────┴───┴────────────┴───────────┴────────────┴────────────┘"
            ]
          },
          "execution_count": 13,
          "metadata": {},
          "output_type": "execute_result"
        }
      ],
      "source": [
        "df.head()"
      ]
    },
    {
      "attachments": {},
      "cell_type": "markdown",
      "metadata": {
        "id": "5eJYilR-nt3R"
      },
      "source": [
        "## 5. Charting with Seaborn in Python"
      ]
    },
    {
      "cell_type": "code",
      "execution_count": 14,
      "metadata": {
        "colab": {
          "base_uri": "https://localhost:8080/",
          "height": 523
        },
        "id": "lXrkx5WkJOQ4",
        "outputId": "7f266fa0-0cb5-4480-bd5b-91e9f227475e"
      },
      "outputs": [
        {
          "data": {
            "text/plain": [
              "<seaborn.axisgrid.FacetGrid at 0x7f7bf81b7bb0>"
            ]
          },
          "execution_count": 14,
          "metadata": {},
          "output_type": "execute_result"
        },
        {
          "data": {
            "image/png": "[encoded data removed]",
            "text/plain": [
              "<Figure size 500x500 with 1 Axes>"
            ]
          },
          "metadata": {},
          "output_type": "display_data"
        }
      ],
      "source": [
        "sns.relplot(\n",
        "    data = df,\n",
        "    x='date',\n",
        "    y='4. close',\n",
        "    kind = 'line')"
      ]
    },
    {
      "attachments": {},
      "cell_type": "markdown",
      "metadata": {
        "id": "JbhgElWlG61F"
      },
      "source": [
        "# 6. Basic Data transforms"
      ]
    },
    {
      "cell_type": "code",
      "execution_count": 16,
      "metadata": {
        "colab": {
          "base_uri": "https://localhost:8080/",
          "height": 916
        },
        "id": "cF9jokgEG-3f",
        "outputId": "f5596db3-8d33-4102-e5b5-2fd7c952c5fb"
      },
      "outputs": [
        {
          "name": "stderr",
          "output_type": "stream",
          "text": [
            "/home/test/virtualenv/scrapbot/lib/python3.10/site-packages/polars/series/series.py:1141: RuntimeWarning: divide by zero encountered in log\n",
            "  series = f(lambda out: ufunc(*args, out=out, dtype=dtype_char, **kwargs))\n"
          ]
        },
        {
          "data": {
            "text/html": [
              "<div><style>\n",
              ".dataframe > thead > tr > th,\n",
              ".dataframe > tbody > tr > td {\n",
              "  text-align: right;\n",
              "}\n",
              "</style>\n",
              "<small>shape: (5, 10)</small><table border=\"1\" class=\"dataframe\"><thead><tr><th>date</th><th>1. open</th><th>2. high</th><th>3. low</th><th>4. close</th><th>5. adjusted close</th><th>6. volume</th><th>7. dividend amount</th><th>8. split coefficient</th><th>log_return</th></tr><tr><td>date</td><td>f64</td><td>f64</td><td>f64</td><td>f64</td><td>f64</td><td>i64</td><td>f64</td><td>f64</td><td>f64</td></tr></thead><tbody><tr><td>1999-11-01</td><td>98.5</td><td>98.81</td><td>96.37</td><td>96.75</td><td>51.949021</td><td>9551800</td><td>0.0</td><td>1.0</td><td>null</td></tr><tr><td>1999-11-02</td><td>96.75</td><td>96.81</td><td>93.69</td><td>94.81</td><td>50.907356</td><td>11105400</td><td>0.0</td><td>1.0</td><td>-0.020255</td></tr><tr><td>1999-11-03</td><td>95.87</td><td>95.94</td><td>93.5</td><td>94.37</td><td>50.671102</td><td>10369100</td><td>0.0</td><td>1.0</td><td>-0.004652</td></tr><tr><td>1999-11-04</td><td>94.44</td><td>94.44</td><td>90.0</td><td>91.56</td><td>49.162298</td><td>16697600</td><td>0.0</td><td>1.0</td><td>-0.030229</td></tr><tr><td>1999-11-05</td><td>92.75</td><td>92.94</td><td>90.19</td><td>90.25</td><td>48.458906</td><td>13737600</td><td>0.0</td><td>1.0</td><td>-0.014411</td></tr></tbody></table></div>"
            ],
            "text/plain": [
              "shape: (5, 10)\n",
              "┌────────────┬─────────┬─────────┬────────┬───┬───────────┬────────────┬──────────────┬────────────┐\n",
              "│ date       ┆ 1. open ┆ 2. high ┆ 3. low ┆ … ┆ 6. volume ┆ 7.         ┆ 8. split     ┆ log_return │\n",
              "│ ---        ┆ ---     ┆ ---     ┆ ---    ┆   ┆ ---       ┆ dividend   ┆ coefficient  ┆ ---        │\n",
              "│ date       ┆ f64     ┆ f64     ┆ f64    ┆   ┆ i64       ┆ amount     ┆ ---          ┆ f64        │\n",
              "│            ┆         ┆         ┆        ┆   ┆           ┆ ---        ┆ f64          ┆            │\n",
              "│            ┆         ┆         ┆        ┆   ┆           ┆ f64        ┆              ┆            │\n",
              "╞════════════╪═════════╪═════════╪════════╪═══╪═══════════╪════════════╪══════════════╪════════════╡\n",
              "│ 1999-11-01 ┆ 98.5    ┆ 98.81   ┆ 96.37  ┆ … ┆ 9551800   ┆ 0.0        ┆ 1.0          ┆ null       │\n",
              "│ 1999-11-02 ┆ 96.75   ┆ 96.81   ┆ 93.69  ┆ … ┆ 11105400  ┆ 0.0        ┆ 1.0          ┆ -0.020255  │\n",
              "│ 1999-11-03 ┆ 95.87   ┆ 95.94   ┆ 93.5   ┆ … ┆ 10369100  ┆ 0.0        ┆ 1.0          ┆ -0.004652  │\n",
              "│ 1999-11-04 ┆ 94.44   ┆ 94.44   ┆ 90.0   ┆ … ┆ 16697600  ┆ 0.0        ┆ 1.0          ┆ -0.030229  │\n",
              "│ 1999-11-05 ┆ 92.75   ┆ 92.94   ┆ 90.19  ┆ … ┆ 13737600  ┆ 0.0        ┆ 1.0          ┆ -0.014411  │\n",
              "└────────────┴─────────┴─────────┴────────┴───┴───────────┴────────────┴──────────────┴────────────┘"
            ]
          },
          "execution_count": 16,
          "metadata": {},
          "output_type": "execute_result"
        }
      ],
      "source": [
        "import numpy as np\n",
        "# Introducing Stationarity in daily returns\n",
        "\n",
        "# Sort the DataFrame by timestamps if it's not already sorted\n",
        "df = df.sort(\"date\")\n",
        "\n",
        "# Calculate the natural logarithm return - note np.log() is ln WHILE np.log10 is log...\n",
        "log_return = np.log(df['4. close']) - np.log(df['4. close'].shift(1))\n",
        "\n",
        "# Add the logarithmic return as a new column\n",
        "df = df.with_columns(log_return = log_return)\n",
        "df.head()"
      ]
    },
    {
      "cell_type": "code",
      "execution_count": 17,
      "metadata": {
        "colab": {
          "base_uri": "https://localhost:8080/",
          "height": 380
        },
        "id": "FiDvLnIFP_CL",
        "outputId": "e78daede-2d97-4b7c-bf9c-45527e6169e5"
      },
      "outputs": [
        {
          "data": {
            "text/html": [
              "<div><style>\n",
              ".dataframe > thead > tr > th,\n",
              ".dataframe > tbody > tr > td {\n",
              "  text-align: right;\n",
              "}\n",
              "</style>\n",
              "<small>shape: (9, 2)</small><table border=\"1\" class=\"dataframe\"><thead><tr><th>statistic</th><th>value</th></tr><tr><td>str</td><td>f64</td></tr></thead><tbody><tr><td>&quot;count&quot;</td><td>5958.0</td></tr><tr><td>&quot;null_count&quot;</td><td>1.0</td></tr><tr><td>&quot;mean&quot;</td><td>0.000052</td></tr><tr><td>&quot;std&quot;</td><td>0.016588</td></tr><tr><td>&quot;min&quot;</td><td>-0.16889</td></tr><tr><td>&quot;max&quot;</td><td>0.113488</td></tr><tr><td>&quot;median&quot;</td><td>0.000232</td></tr><tr><td>&quot;25%&quot;</td><td>-0.007316</td></tr><tr><td>&quot;75%&quot;</td><td>0.007607</td></tr></tbody></table></div>"
            ],
            "text/plain": [
              "shape: (9, 2)\n",
              "┌────────────┬───────────┐\n",
              "│ statistic  ┆ value     │\n",
              "│ ---        ┆ ---       │\n",
              "│ str        ┆ f64       │\n",
              "╞════════════╪═══════════╡\n",
              "│ count      ┆ 5958.0    │\n",
              "│ null_count ┆ 1.0       │\n",
              "│ mean       ┆ 0.000052  │\n",
              "│ std        ┆ 0.016588  │\n",
              "│ min        ┆ -0.16889  │\n",
              "│ max        ┆ 0.113488  │\n",
              "│ median     ┆ 0.000232  │\n",
              "│ 25%        ┆ -0.007316 │\n",
              "│ 75%        ┆ 0.007607  │\n",
              "└────────────┴───────────┘"
            ]
          },
          "execution_count": 17,
          "metadata": {},
          "output_type": "execute_result"
        }
      ],
      "source": [
        "#Summary stats.\n",
        "\n",
        "df['log_return'].describe() # <-- fairly shit summary statistics - need to look for other package\n",
        "\n",
        "# Love it that the share lost 16 pct in one day!"
      ]
    },
    {
      "cell_type": "code",
      "execution_count": 18,
      "metadata": {
        "colab": {
          "base_uri": "https://localhost:8080/",
          "height": 523
        },
        "id": "ip63pfMlH_4Q",
        "outputId": "a4a4cec7-6977-423b-f884-ed5364467cee"
      },
      "outputs": [
        {
          "data": {
            "text/plain": [
              "<seaborn.axisgrid.FacetGrid at 0x7f7bf98de350>"
            ]
          },
          "execution_count": 18,
          "metadata": {},
          "output_type": "execute_result"
        },
        {
          "data": {
            "image/png": "[encoded data removed]",
            "text/plain": [
              "<Figure size 500x500 with 1 Axes>"
            ]
          },
          "metadata": {},
          "output_type": "display_data"
        }
      ],
      "source": [
        "# Ability to add Kernel density estimate (not sure why we need it but hey... => FAT TAILS)\n",
        "sns.displot(data = df, x=\"log_return\", kde=True)"
      ]
    }
  ],
  "metadata": {
    "colab": {
      "provenance": [],
      "toc_visible": true
    },
    "kernelspec": {
      "display_name": "Python 3",
      "name": "python3"
    },
    "language_info": {
      "codemirror_mode": {
        "name": "ipython",
        "version": 3
      },
      "file_extension": ".py",
      "mimetype": "text/x-python",
      "name": "python",
      "nbconvert_exporter": "python",
      "pygments_lexer": "ipython3",
      "version": "3.10.6"
    }
  },
  "nbformat": 4,
  "nbformat_minor": 0
}
